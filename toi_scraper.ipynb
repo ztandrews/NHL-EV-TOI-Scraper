{
 "cells": [
  {
   "cell_type": "markdown",
   "id": "a6330fc2-8dde-40d4-83b8-cec4b823b68c",
   "metadata": {},
   "source": [
    "# TOI Scraper\n",
    "### Zach Andrews\n",
    "### ztandrews18@sbcglobal.net\n",
    "### github.com/ztandrews\n",
    "---\n",
    "##### Scrape NHL Player Even-Strength TOI for a specific game"
   ]
  },
  {
   "cell_type": "code",
   "execution_count": 7,
   "id": "38c67641-0329-4f21-bfaf-7bac6c512d90",
   "metadata": {
    "tags": []
   },
   "outputs": [],
   "source": [
    "#Import modules\n",
    "from bs4 import BeautifulSoup as bs\n",
    "import requests\n",
    "import pandas as pd"
   ]
  },
  {
   "cell_type": "code",
   "execution_count": 8,
   "id": "9a32b967-79a4-4158-90e2-498297b59cbf",
   "metadata": {
    "tags": []
   },
   "outputs": [],
   "source": [
    "#Config\n",
    "game_id = \"\" # Game ID, excluding 0. Find more on this from the NHL api at https://gitlab.com/dword4/nhlapi/-/blob/master/stats-api.md#game-ids. ex. 20879\n",
    "home_abv = \"\" # Home team's abbreviation\n",
    "away_abv = \"PIT\" # Away team's abbreviation\n",
    "game_date = \"0217\" # Month, Day. ex. 0217 for feb 17. Not strict"
   ]
  },
  {
   "cell_type": "code",
   "execution_count": 9,
   "id": "ca79e5cb-3112-4df5-a1bb-639e6647c56f",
   "metadata": {
    "tags": []
   },
   "outputs": [],
   "source": [
    "#Home team block\n",
    "home_URL = \"https://www.nhl.com/scores/htmlreports/20222023/TH0\"+game_id+\".HTM\"\n",
    "home_page = requests.get(home_URL)\n",
    "home_soup = bs(home_page.content, \"html.parser\")\n",
    "home_player_search = home_soup.find_all(\"td\",class_=\"playerHeading + border\")\n",
    "home_players = []\n",
    "for p in home_player_search:\n",
    "    home_players.append(p.string)\n",
    "home_names = []\n",
    "for player in home_players:\n",
    "    p_name = player.split(' ')\n",
    "    name = (p_name[2],p_name[1])\n",
    "    name = str(name)\n",
    "    final_name = name.replace(',','')\n",
    "    final_name = final_name.replace('(','')\n",
    "    final_name = final_name.replace(')','')\n",
    "    final_name = final_name.replace(\"'\",'')\n",
    "    home_names.append(final_name)\n",
    "home_toi_search = home_soup.find_all(\"td\",class_=\"bborder + lborder + bold\")\n",
    "home_tois = []\n",
    "for i in range(1,len(home_toi_search)):\n",
    "    if i==len(home_toi_search):\n",
    "        continue\n",
    "    if(str(home_toi_search[i].string)=='TOT'):\n",
    "        home_tois.append(home_toi_search[i-2].string)\n",
    "home_tois.append(home_toi_search[len(home_toi_search)-2].string)\n",
    "home_dec_tois = []\n",
    "HMS = [60*60, 60, 1]\n",
    "for t in home_tois:\n",
    "    dec_time = sum(a * b for a,b in zip(HMS, map(int, t.split(\":\"))))\n",
    "    dec_time /= 3600.\n",
    "    home_dec_tois.append(dec_time)\n",
    "home_toi_df = pd.DataFrame(columns=['Player','TOI'])\n",
    "for k in range(0,len(home_player_search)):\n",
    "    home_toi_df = home_toi_df.append({'Player':home_names[k],'TOI':home_dec_tois[k]},ignore_index=True)"
   ]
  },
  {
   "cell_type": "code",
   "execution_count": 48,
   "id": "7eb591df-86c4-4d0d-b39c-2d6d56b0fd37",
   "metadata": {
    "collapsed": true,
    "jupyter": {
     "outputs_hidden": true
    }
   },
   "outputs": [],
   "source": [
    "#Save home team to CSV\n",
    "home_toi_df.to_csv(home_abv+\"_ev_toi_\"+game_date+\".csv\")"
   ]
  },
  {
   "cell_type": "code",
   "execution_count": 10,
   "id": "1bd4458f-fba2-414d-9904-21f02d487716",
   "metadata": {
    "tags": []
   },
   "outputs": [],
   "source": [
    "#Away team block\n",
    "away_URL = \"https://www.nhl.com/scores/htmlreports/20222023/TV0\"+game_id+\".HTM\"\n",
    "away_page = requests.get(away_URL)\n",
    "away_soup = bs(away_page.content, \"html.parser\")\n",
    "away_player_search = away_soup.find_all(\"td\",class_=\"playerHeading + border\")\n",
    "away_players = []\n",
    "for p in away_player_search:\n",
    "    away_players.append(p.string)\n",
    "away_names = []\n",
    "for player in away_players:\n",
    "    p_name = player.split(' ')\n",
    "    name = (p_name[2],p_name[1])\n",
    "    name = str(name)\n",
    "    final_name = name.replace(',','')\n",
    "    final_name = final_name.replace('(','')\n",
    "    final_name = final_name.replace(')','')\n",
    "    final_name = final_name.replace(\"'\",'')\n",
    "    away_names.append(final_name)\n",
    "away_toi_search = away_soup.find_all(\"td\",class_=\"bborder + lborder + bold\")\n",
    "away_tois = []\n",
    "for i in range(1,len(away_toi_search)):\n",
    "    if i==len(away_toi_search):\n",
    "        continue\n",
    "    if(str(away_toi_search[i].string)=='TOT'):\n",
    "        away_tois.append(away_toi_search[i-2].string)\n",
    "away_tois.append(away_toi_search[len(away_toi_search)-2].string)\n",
    "away_dec_tois = []\n",
    "HMS = [60*60, 60, 1]\n",
    "for t in away_tois:\n",
    "    dec_time = sum(a * b for a,b in zip(HMS, map(int, t.split(\":\"))))\n",
    "    dec_time /= 3600.\n",
    "    away_dec_tois.append(dec_time)\n",
    "away_toi_df = pd.DataFrame(columns=['Player','TOI'])\n",
    "for k in range(0,len(away_player_search)):\n",
    "    away_toi_df = away_toi_df.append({'Player':away_names[k],'TOI':away_dec_tois[k]},ignore_index=True)"
   ]
  },
  {
   "cell_type": "code",
   "execution_count": 50,
   "id": "029f167e-abea-4091-91fa-67d2a216249c",
   "metadata": {
    "collapsed": true,
    "jupyter": {
     "outputs_hidden": true
    }
   },
   "outputs": [],
   "source": [
    "#Save away team to CSV\n",
    "away_toi_df.to_csv(away_abv+\"_ev_toi_\"+game_date+\".csv\")"
   ]
  }
 ],
 "metadata": {
  "kernelspec": {
   "display_name": "Python 3 (ipykernel)",
   "language": "python",
   "name": "python3"
  },
  "language_info": {
   "codemirror_mode": {
    "name": "ipython",
    "version": 3
   },
   "file_extension": ".py",
   "mimetype": "text/x-python",
   "name": "python",
   "nbconvert_exporter": "python",
   "pygments_lexer": "ipython3",
   "version": "3.9.2"
  }
 },
 "nbformat": 4,
 "nbformat_minor": 5
}
